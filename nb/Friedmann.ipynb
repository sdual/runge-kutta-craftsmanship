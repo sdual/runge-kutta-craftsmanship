{
 "cells": [
  {
   "cell_type": "code",
   "execution_count": 1,
   "metadata": {},
   "outputs": [],
   "source": [
    "def runge_kutta_method(t, h, x, func):\n",
    "    k1 = func(t, x) * h\n",
    "    k2 = func(t + h / 2.0, x + k1 / 2.0) * h\n",
    "    k3 = func(t + h / 2.0, x + k2 / 2.0) * h\n",
    "    k4 = func(t + h, x + k3) * h\n",
    "    return x + (k1 + 2.0 * k2 + 2.0 * k3 + k4) / 6.0"
   ]
  },
  {
   "cell_type": "code",
   "execution_count": 2,
   "metadata": {},
   "outputs": [],
   "source": [
    "HUBBLE_CONSTANT = 72.0\n",
    "\n",
    "OMEGA_MATTER = 0.3\n",
    "OMEGA_DARK_ENERGY = 0.7"
   ]
  },
  {
   "cell_type": "code",
   "execution_count": 3,
   "metadata": {},
   "outputs": [],
   "source": [
    "import math\n",
    "\n",
    "def square_root_friedmann_eq(t, scale_factor):\n",
    "    diff_scale_factor = HUBBLE_CONSTANT \\\n",
    "    * math.sqrt(OMEGA_MATTER / scale_factor + OMEGA_DARK_ENERGY * scale_factor**2)\n",
    "    return diff_scale_factor"
   ]
  },
  {
   "cell_type": "code",
   "execution_count": 4,
   "metadata": {},
   "outputs": [],
   "source": [
    "# H_0 ≒ 72 km/Mpc/sec\n",
    "# 時間の単位 -> sec Mpc / km\n",
    "\n",
    "def rescale_time(t):\n",
    "    return t / 3.24078e-20 / 3.1536e15"
   ]
  },
  {
   "cell_type": "code",
   "execution_count": 15,
   "metadata": {},
   "outputs": [],
   "source": [
    "time_list = []\n",
    "scale_factor_list = []\n",
    "\n",
    "h = 0.0001\n",
    "t = 0.0\n",
    "# initial scale factor value.\n",
    "scale_factor = 1.0e-3\n",
    "\n",
    "for i in range(0, 300):\n",
    "    scale_factor = runge_kutta_method(t, h, scale_factor, square_root_friedmann_eq)\n",
    "    time_list.append(rescale_time(t))\n",
    "    scale_factor_list.append(scale_factor)\n",
    "    t = t + h"
   ]
  },
  {
   "cell_type": "code",
   "execution_count": 17,
   "metadata": {},
   "outputs": [
    {
     "data": {
      "text/plain": [
       "[<matplotlib.lines.Line2D at 0x11f4d55f8>]"
      ]
     },
     "execution_count": 17,
     "metadata": {},
     "output_type": "execute_result"
    },
    {
     "data": {
      "image/png": "[encoded data removed]",
      "text/plain": [
       "<Figure size 432x288 with 1 Axes>"
      ]
     },
     "metadata": {},
     "output_type": "display_data"
    }
   ],
   "source": [
    "import matplotlib.pyplot as plt\n",
    "import numpy as np\n",
    "%matplotlib inline\n",
    "\n",
    "plt.xlabel('time / 10^8 year')\n",
    "plt.ylabel('scale factor')\n",
    "plt.plot(time_list, scale_factor_list)"
   ]
  },
  {
   "cell_type": "code",
   "execution_count": null,
   "metadata": {},
   "outputs": [],
   "source": []
  }
 ],
 "metadata": {
  "kernelspec": {
   "display_name": "Python 3",
   "language": "python",
   "name": "python3"
  },
  "language_info": {
   "codemirror_mode": {
    "name": "ipython",
    "version": 3
   },
   "file_extension": ".py",
   "mimetype": "text/x-python",
   "name": "python",
   "nbconvert_exporter": "python",
   "pygments_lexer": "ipython3",
   "version": "3.6.6"
  }
 },
 "nbformat": 4,
 "nbformat_minor": 2
}
