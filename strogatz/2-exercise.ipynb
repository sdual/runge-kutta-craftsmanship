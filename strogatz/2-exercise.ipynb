{
 "cells": [
  {
   "cell_type": "markdown",
   "metadata": {},
   "source": [
    "## 2.1\n",
    "### 2.1.1\n",
    "固定点は $\\dot{x} = 0$ より、\n",
    "$\\sin x = 0$ なので、$ x = n \\pi \\ (n = 0, 1, 2, ...)$\n",
    "\n",
    "### 2.1.2\n",
    "$\\dot{x}$ が右向き最大のとき、$\\sin x$ が最大なので、  \n",
    "最大値は $ x = \\left (2n + \\frac{1}{2} \\right ) \\pi \\ (n = 0, 1, 2, ...)$\n",
    "\n",
    "\n",
    "\n",
    "### 2.1.3\n",
    "(a) 加速度は $\\ddot{x} = \\dfrac{d}{dt} \\sin x  = \\dot{x} \\cos x = \\sin x \\cos x$  \n",
    "(b) $ \\ddot{x} = \\sin x \\cos x$ なので、  \n",
    "$ \\sin x \\cos x = \\dfrac{1}{2} \\sin 2x $  \n",
    "よって、最大は、$x = (n + \\dfrac{1}{4}) \\pi \\ (n = 0, 1, 2, ...)$ のとき。"
   ]
  },
  {
   "cell_type": "code",
   "execution_count": null,
   "metadata": {},
   "outputs": [],
   "source": []
  }
 ],
 "metadata": {
  "kernelspec": {
   "display_name": "Python 3",
   "language": "python",
   "name": "python3"
  },
  "language_info": {
   "codemirror_mode": {
    "name": "ipython",
    "version": 3
   },
   "file_extension": ".py",
   "mimetype": "text/x-python",
   "name": "python",
   "nbconvert_exporter": "python",
   "pygments_lexer": "ipython3",
   "version": "3.6.6"
  }
 },
 "nbformat": 4,
 "nbformat_minor": 2
}
